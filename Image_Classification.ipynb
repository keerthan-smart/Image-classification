{
  "nbformat": 4,
  "nbformat_minor": 0,
  "metadata": {
    "colab": {
      "name": "Image Classification.ipynb",
      "provenance": [],
      "collapsed_sections": [],
      "authorship_tag": "ABX9TyNbN6XgcVFuMAjztKyqbd6B",
      "include_colab_link": true
    },
    "kernelspec": {
      "display_name": "Python 3",
      "name": "python3"
    }
  },
  "cells": [
    {
      "cell_type": "markdown",
      "metadata": {
        "id": "view-in-github",
        "colab_type": "text"
      },
      "source": [
        "<a href=\"https://colab.research.google.com/github/keerthan-smart/Image-classification/blob/main/Image_Classification.ipynb\" target=\"_parent\"><img src=\"https://colab.research.google.com/assets/colab-badge.svg\" alt=\"Open In Colab\"/></a>"
      ]
    },
    {
      "cell_type": "code",
      "metadata": {
        "id": "0IxHZqrRnYCl"
      },
      "source": [
        "!pip install bing-image-downloader\r\n"
      ],
      "execution_count": null,
      "outputs": []
    },
    {
      "cell_type": "code",
      "metadata": {
        "id": "ss925mN8qapF"
      },
      "source": [
        "!mkdir images\r\n"
      ],
      "execution_count": null,
      "outputs": []
    },
    {
      "cell_type": "code",
      "metadata": {
        "id": "lhKhPh0cqdwE"
      },
      "source": [
        "from bing_image_downloader import downloader\r\n",
        "downloader.download(\"pretty sunflower\",limit=30,output_dir='images',adult_filter_off=True)\r\n",
        "downloader.download(\"rugby ball leather\",limit=30,output_dir='images',adult_filter_off=True)\r\n",
        "downloader.download(\"ice cream cone\",limit=30,output_dir='images',adult_filter_off=True)\r\n"
      ],
      "execution_count": null,
      "outputs": []
    },
    {
      "cell_type": "code",
      "metadata": {
        "id": "bCrrE7nQsP29"
      },
      "source": [
        "# Preprocessing\r\n",
        "import os \r\n",
        "import pandas as pd\r\n",
        "import matplotlib.pyplot as plt\r\n",
        "import numpy as np\r\n",
        "from skimage.io import imread\r\n",
        "from skimage.transform import resize\r\n",
        "\r\n",
        "target = []\r\n",
        "images = []\r\n",
        "flat_data = []\r\n",
        "\r\n",
        "DATADIR = '/content/images'\r\n",
        "CATEGORIES = ['pretty sunflower','rugby ball leather','ice cream cone']\r\n",
        "\r\n",
        "for category in CATEGORIES:\r\n",
        "  class_num = CATEGORIES.index(category)\r\n",
        "  path = os.path.join(DATADIR,category)\r\n",
        "  for img in os.listdir(path):\r\n",
        "    img_array = imread(os.path.join(path,img))\r\n",
        "    img_resized = resize(img_array,(150,150,3))\r\n",
        "    flat_data.append(img_resized.flatten())\r\n",
        "    images.append(img_resized)\r\n",
        "    target.append(class_num)\r\n",
        "\r\n",
        "flat_data = np.array(flat_data)\r\n",
        "target = np.array(target)\r\n",
        "images = np.array(images)"
      ],
      "execution_count": 6,
      "outputs": []
    },
    {
      "cell_type": "code",
      "metadata": {
        "id": "gsywFhUrEuA0"
      },
      "source": [
        "df = pd.DataFrame(flat_data)\r\n",
        "df['Target'] = target\r\n",
        "df"
      ],
      "execution_count": null,
      "outputs": []
    },
    {
      "cell_type": "code",
      "metadata": {
        "id": "bpEkBJuyFj9a"
      },
      "source": [
        "#Splitting data into Training and Testing\r\n",
        "from sklearn.model_selection import train_test_split\r\n",
        "x_train,x_test,y_train,y_test = train_test_split(flat_data,target,test_size=0.3,random_state=109)"
      ],
      "execution_count": 9,
      "outputs": []
    },
    {
      "cell_type": "code",
      "metadata": {
        "id": "tB7voEmAH14h"
      },
      "source": [
        "from sklearn.model_selection import GridSearchCV\r\n",
        "from sklearn import svm\r\n",
        "parameters = [\r\n",
        "             {'C':[1,10,100,1000],'kernel':['linear']},\r\n",
        "             {'C':[1,10,100,1000],'gamma':[0.001,0.0001],'kernel':['rbf']},\r\n",
        "]\r\n",
        "svc = svm.SVC(probability=True)\r\n",
        "cv = GridSearchCV(svc,parameters)\r\n",
        "cv.fit(x_train,y_train)"
      ],
      "execution_count": null,
      "outputs": []
    },
    {
      "cell_type": "code",
      "metadata": {
        "id": "-my8Z8E1ttNZ"
      },
      "source": [
        "y_pred = cv.predict(x_test)\r\n",
        "y_pred"
      ],
      "execution_count": null,
      "outputs": []
    },
    {
      "cell_type": "code",
      "metadata": {
        "id": "4iAb3OHdum_U"
      },
      "source": [
        "y_test"
      ],
      "execution_count": null,
      "outputs": []
    },
    {
      "cell_type": "code",
      "metadata": {
        "id": "I6Ona-6_Nn_j"
      },
      "source": [
        "from sklearn.metrics import accuracy_score,confusion_matrix,classification_report\r\n",
        "confusion_matrix(y_pred,y_test)"
      ],
      "execution_count": null,
      "outputs": []
    },
    {
      "cell_type": "code",
      "metadata": {
        "id": "-j544AYQsVHU"
      },
      "source": [
        "accuracy_score(y_pred,y_test)\r\n"
      ],
      "execution_count": null,
      "outputs": []
    },
    {
      "cell_type": "code",
      "metadata": {
        "id": "_Mv1HeQnT-Om"
      },
      "source": [
        "print(classification_report(y_pred,y_test))"
      ],
      "execution_count": null,
      "outputs": []
    },
    {
      "cell_type": "code",
      "metadata": {
        "id": "Sq9qRslpUobG"
      },
      "source": [
        "#Save the model using Pickle library\r\n",
        "import pickle\r\n",
        "pickle.dump(cv,open('img_model.p','wb'))"
      ],
      "execution_count": 19,
      "outputs": []
    },
    {
      "cell_type": "code",
      "metadata": {
        "id": "0aXWQu2cVppm"
      },
      "source": [
        "model = pickle.load(open('img_model.p','rb'))\r\n"
      ],
      "execution_count": 20,
      "outputs": []
    },
    {
      "cell_type": "code",
      "metadata": {
        "id": "jRGDqePWVy24"
      },
      "source": [
        "#Testing a new image\r\n",
        "flat_data = []\r\n",
        "url = input('Enter the URL')\r\n",
        "img = imread(url)\r\n",
        "img_resized = resize(img,(150,150,3))\r\n",
        "flat_data.append(img_resized.flatten())\r\n",
        "flat_data = np.array(flat_data)\r\n",
        "print(img.shape)\r\n",
        "plt.imshow(img_resized)\r\n",
        "y_out = model.predict(flat_data)\r\n",
        "y_out = CATEGORIES[y_out[0]]\r\n",
        "print(f' PREDICTED OUTPUT: {y_out}')"
      ],
      "execution_count": null,
      "outputs": []
    }
  ]
}